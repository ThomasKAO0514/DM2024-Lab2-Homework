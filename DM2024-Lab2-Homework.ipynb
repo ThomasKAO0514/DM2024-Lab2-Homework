{
 "cells": [
  {
   "attachments": {
    "pic0.png": {
     "image/png": "[encoded data removed]"
    }
   },
   "cell_type": "markdown",
   "metadata": {},
   "source": [
    "### Student Information\n",
    "Name:高睿駿\n",
    "\n",
    "Student ID:711233108\n",
    "\n",
    "GitHub ID:ThomasKAO0514\n",
    "\n",
    "Kaggle name:ThomasKAO\n",
    "\n",
    "Kaggle private scoreboard snapshot:![pic0.png](attachment:pic0.png)"
   ]
  },
  {
   "cell_type": "markdown",
   "metadata": {},
   "source": [
    "---"
   ]
  },
  {
   "cell_type": "markdown",
   "metadata": {},
   "source": [
    "### Instructions"
   ]
  },
  {
   "cell_type": "markdown",
   "metadata": {},
   "source": [
    "1. First: __This part is worth 30% of your grade.__ Do the **take home exercises** in the [DM2024-Lab2-master Repo](https://github.com/didiersalazar/DM2024-Lab2-Master). You may need to copy some cells from the Lab notebook to this notebook. \n",
    "\n",
    "\n",
    "2. Second: __This part is worth 30% of your grade.__ Participate in the in-class [Kaggle Competition](https://www.kaggle.com/competitions/dm-2024-isa-5810-lab-2-homework) regarding Emotion Recognition on Twitter by this link: https://www.kaggle.com/competitions/dm-2024-isa-5810-lab-2-homework. The scoring will be given according to your place in the Private Leaderboard ranking: \n",
    "    - **Bottom 40%**: Get 20% of the 30% available for this section.\n",
    "\n",
    "    - **Top 41% - 100%**: Get (0.6N + 1 - x) / (0.6N) * 10 + 20 points, where N is the total number of participants, and x is your rank. (ie. If there are 100 participants and you rank 3rd your score will be (0.6 * 100 + 1 - 3) / (0.6 * 100) * 10 + 20 = 29.67% out of 30%.)   \n",
    "    Submit your last submission **BEFORE the deadline (Nov. 26th, 11:59 pm, Tuesday)**. Make sure to take a screenshot of your position at the end of the competition and store it as '''pic0.png''' under the **img** folder of this repository and rerun the cell **Student Information**.\n",
    "    \n",
    "\n",
    "3. Third: __This part is worth 30% of your grade.__ A report of your work developing the model for the competition (You can use code and comment on it). This report should include what your preprocessing steps, the feature engineering steps and an explanation of your model. You can also mention different things you tried and insights you gained. \n",
    "\n",
    "\n",
    "4. Fourth: __This part is worth 10% of your grade.__ It's hard for us to follow if your code is messy :'(, so please **tidy up your notebook**.\n",
    "\n",
    "\n",
    "Upload your files to your repository then submit the link to it on the corresponding e-learn assignment.\n",
    "\n",
    "Make sure to commit and save your changes to your repository __BEFORE the deadline (Nov. 26th, 11:59 pm, Tuesday)__. "
   ]
  },
  {
   "cell_type": "markdown",
   "metadata": {},
   "source": [
    "## **1. Data Preparation**"
   ]
  },
  {
   "cell_type": "markdown",
   "metadata": {},
   "source": [
    "#### 1.1 Load data"
   ]
  },
  {
   "cell_type": "code",
   "execution_count": null,
   "metadata": {},
   "outputs": [
    {
     "name": "stdout",
     "output_type": "stream",
     "text": [
      "   _score          _index                                            _source  \\\n",
      "0     391  hashtag_tweets  {'tweet': {'hashtags': ['Snapchat'], 'tweet_id...   \n",
      "1     433  hashtag_tweets  {'tweet': {'hashtags': ['freepress', 'TrumpLeg...   \n",
      "2     232  hashtag_tweets  {'tweet': {'hashtags': ['bibleverse'], 'tweet_...   \n",
      "3     376  hashtag_tweets  {'tweet': {'hashtags': [], 'tweet_id': '0x1cd5...   \n",
      "4     989  hashtag_tweets  {'tweet': {'hashtags': [], 'tweet_id': '0x2de2...   \n",
      "\n",
      "            _crawldate   _type  \n",
      "0  2015-05-23 11:42:47  tweets  \n",
      "1  2016-01-28 04:52:09  tweets  \n",
      "2  2017-12-25 04:39:20  tweets  \n",
      "3  2016-01-24 23:53:05  tweets  \n",
      "4  2016-01-08 17:18:59  tweets  \n"
     ]
    }
   ],
   "source": [
    "import pandas as pd\n",
    "\n",
    "tweets = pd.read_json(\"tweets_DM.json\", lines=True)\n",
    "print(tweets.head())"
   ]
  },
  {
   "cell_type": "code",
   "execution_count": null,
   "metadata": {},
   "outputs": [
    {
     "name": "stdout",
     "output_type": "stream",
     "text": [
      "(1867535, 2)\n",
      "   tweet_id identification\n",
      "0  0x28cc61           test\n",
      "1  0x29e452          train\n",
      "2  0x2b3819          train\n",
      "3  0x2db41f           test\n",
      "4  0x2a2acc          train\n"
     ]
    }
   ],
   "source": [
    "# Load the emotion labels dataset\n",
    "emotion_df = pd.read_csv('emotion.csv')\n",
    "\n",
    "# Load the dataset with data identification information\n",
    "data_identification_df = pd.read_csv('data_identification.csv')\n",
    "\n",
    "# Display the shape of the data identification dataset\n",
    "print(data_identification_df.shape)\n",
    "\n",
    "# Display the first few rows of the data identification dataset\n",
    "print(data_identification_df.head())\n"
   ]
  },
  {
   "cell_type": "code",
   "execution_count": 5,
   "metadata": {},
   "outputs": [
    {
     "name": "stdout",
     "output_type": "stream",
     "text": [
      "(1455563, 2)\n",
      "   tweet_id       emotion\n",
      "0  0x3140b1       sadness\n",
      "1  0x368b73       disgust\n",
      "2  0x296183  anticipation\n",
      "3  0x2bd6e1           joy\n",
      "4  0x2ee1dd  anticipation\n"
     ]
    }
   ],
   "source": [
    "print(emotion_df.shape)\n",
    "print(emotion_df.head())"
   ]
  },
  {
   "cell_type": "code",
   "execution_count": 6,
   "metadata": {},
   "outputs": [
    {
     "data": {
      "text/plain": [
       "1867535"
      ]
     },
     "execution_count": 6,
     "metadata": {},
     "output_type": "execute_result"
    }
   ],
   "source": [
    "len(tweets['_source'])"
   ]
  },
  {
   "cell_type": "code",
   "execution_count": 7,
   "metadata": {},
   "outputs": [
    {
     "data": {
      "text/plain": [
       "{'hashtags': ['Snapchat'],\n",
       " 'tweet_id': '0x376b20',\n",
       " 'text': 'People who post \"add me on #Snapchat\" must be dehydrated. Cuz man.... that\\'s <LH>'}"
      ]
     },
     "execution_count": 7,
     "metadata": {},
     "output_type": "execute_result"
    }
   ],
   "source": [
    "tweets['_source'][0]['tweet']\n"
   ]
  },
  {
   "cell_type": "code",
   "execution_count": 8,
   "metadata": {},
   "outputs": [],
   "source": [
    "tweet_id = [tweets['_source'][i]['tweet']['tweet_id'] for i in range(len(tweets['_source']))]\n",
    "tweet_text = [tweets['_source'][i]['tweet']['text'] for i in range(len(tweets['_source']))]"
   ]
  },
  {
   "cell_type": "code",
   "execution_count": 9,
   "metadata": {},
   "outputs": [],
   "source": [
    "tweet_df = pd.DataFrame({'tweet_id': tweet_id, 'text': tweet_text})"
   ]
  },
  {
   "cell_type": "code",
   "execution_count": 10,
   "metadata": {},
   "outputs": [
    {
     "name": "stdout",
     "output_type": "stream",
     "text": [
      "(1867535, 2)\n"
     ]
    },
    {
     "data": {
      "text/html": [
       "<div>\n",
       "<style scoped>\n",
       "    .dataframe tbody tr th:only-of-type {\n",
       "        vertical-align: middle;\n",
       "    }\n",
       "\n",
       "    .dataframe tbody tr th {\n",
       "        vertical-align: top;\n",
       "    }\n",
       "\n",
       "    .dataframe thead th {\n",
       "        text-align: right;\n",
       "    }\n",
       "</style>\n",
       "<table border=\"1\" class=\"dataframe\">\n",
       "  <thead>\n",
       "    <tr style=\"text-align: right;\">\n",
       "      <th></th>\n",
       "      <th>tweet_id</th>\n",
       "      <th>text</th>\n",
       "    </tr>\n",
       "  </thead>\n",
       "  <tbody>\n",
       "    <tr>\n",
       "      <th>0</th>\n",
       "      <td>0x376b20</td>\n",
       "      <td>People who post \"add me on #Snapchat\" must be ...</td>\n",
       "    </tr>\n",
       "    <tr>\n",
       "      <th>1</th>\n",
       "      <td>0x2d5350</td>\n",
       "      <td>@brianklaas As we see, Trump is dangerous to #...</td>\n",
       "    </tr>\n",
       "    <tr>\n",
       "      <th>2</th>\n",
       "      <td>0x28b412</td>\n",
       "      <td>Confident of your obedience, I write to you, k...</td>\n",
       "    </tr>\n",
       "    <tr>\n",
       "      <th>3</th>\n",
       "      <td>0x1cd5b0</td>\n",
       "      <td>Now ISSA is stalking Tasha 😂😂😂 &lt;LH&gt;</td>\n",
       "    </tr>\n",
       "    <tr>\n",
       "      <th>4</th>\n",
       "      <td>0x2de201</td>\n",
       "      <td>\"Trust is not the same as faith. A friend is s...</td>\n",
       "    </tr>\n",
       "  </tbody>\n",
       "</table>\n",
       "</div>"
      ],
      "text/plain": [
       "   tweet_id                                               text\n",
       "0  0x376b20  People who post \"add me on #Snapchat\" must be ...\n",
       "1  0x2d5350  @brianklaas As we see, Trump is dangerous to #...\n",
       "2  0x28b412  Confident of your obedience, I write to you, k...\n",
       "3  0x1cd5b0                Now ISSA is stalking Tasha 😂😂😂 <LH>\n",
       "4  0x2de201  \"Trust is not the same as faith. A friend is s..."
      ]
     },
     "execution_count": 10,
     "metadata": {},
     "output_type": "execute_result"
    }
   ],
   "source": [
    "print(tweet_df.shape)\n",
    "tweet_df.head()"
   ]
  },
  {
   "cell_type": "code",
   "execution_count": null,
   "metadata": {},
   "outputs": [
    {
     "data": {
      "text/html": [
       "<div>\n",
       "<style scoped>\n",
       "    .dataframe tbody tr th:only-of-type {\n",
       "        vertical-align: middle;\n",
       "    }\n",
       "\n",
       "    .dataframe tbody tr th {\n",
       "        vertical-align: top;\n",
       "    }\n",
       "\n",
       "    .dataframe thead th {\n",
       "        text-align: right;\n",
       "    }\n",
       "</style>\n",
       "<table border=\"1\" class=\"dataframe\">\n",
       "  <thead>\n",
       "    <tr style=\"text-align: right;\">\n",
       "      <th></th>\n",
       "      <th>tweet_id</th>\n",
       "      <th>identification</th>\n",
       "      <th>emotion</th>\n",
       "      <th>text</th>\n",
       "    </tr>\n",
       "  </thead>\n",
       "  <tbody>\n",
       "    <tr>\n",
       "      <th>0</th>\n",
       "      <td>0x1c7f0f</td>\n",
       "      <td>test</td>\n",
       "      <td>NaN</td>\n",
       "      <td>@JZED74 While inappropriate AF, he likely wasn...</td>\n",
       "    </tr>\n",
       "    <tr>\n",
       "      <th>1</th>\n",
       "      <td>0x1c7f10</td>\n",
       "      <td>train</td>\n",
       "      <td>joy</td>\n",
       "      <td>o m g Shut Up And Dance though #BlackMirror &lt;LH&gt;</td>\n",
       "    </tr>\n",
       "    <tr>\n",
       "      <th>2</th>\n",
       "      <td>0x1c7f11</td>\n",
       "      <td>train</td>\n",
       "      <td>anticipation</td>\n",
       "      <td>On #twitch &lt;LH&gt; on the #Destinybeta #Destiny #...</td>\n",
       "    </tr>\n",
       "    <tr>\n",
       "      <th>3</th>\n",
       "      <td>0x1c7f12</td>\n",
       "      <td>test</td>\n",
       "      <td>NaN</td>\n",
       "      <td>I tried to figure out why you mean so much to ...</td>\n",
       "    </tr>\n",
       "    <tr>\n",
       "      <th>4</th>\n",
       "      <td>0x1c7f13</td>\n",
       "      <td>test</td>\n",
       "      <td>NaN</td>\n",
       "      <td>The only “big plan” you ever had in your life,...</td>\n",
       "    </tr>\n",
       "  </tbody>\n",
       "</table>\n",
       "</div>"
      ],
      "text/plain": [
       "   tweet_id identification       emotion  \\\n",
       "0  0x1c7f0f           test           NaN   \n",
       "1  0x1c7f10          train           joy   \n",
       "2  0x1c7f11          train  anticipation   \n",
       "3  0x1c7f12           test           NaN   \n",
       "4  0x1c7f13           test           NaN   \n",
       "\n",
       "                                                text  \n",
       "0  @JZED74 While inappropriate AF, he likely wasn...  \n",
       "1   o m g Shut Up And Dance though #BlackMirror <LH>  \n",
       "2  On #twitch <LH> on the #Destinybeta #Destiny #...  \n",
       "3  I tried to figure out why you mean so much to ...  \n",
       "4  The only “big plan” you ever had in your life,...  "
      ]
     },
     "execution_count": 11,
     "metadata": {},
     "output_type": "execute_result"
    }
   ],
   "source": [
    "# concatenate dfs to one df by tweet_id\n",
    "df = data_identification_df.merge(emotion_df, on='tweet_id', how='outer').merge(tweet_df, on='tweet_id', how='outer')\n",
    "df.shape\n",
    "df.head()"
   ]
  },
  {
   "cell_type": "code",
   "execution_count": null,
   "metadata": {},
   "outputs": [],
   "source": [
    "# train-test split\n",
    "train_df = df[df['identification']=='train']\n",
    "test_df = df[df['identification']=='test']"
   ]
  },
  {
   "cell_type": "code",
   "execution_count": 13,
   "metadata": {},
   "outputs": [
    {
     "name": "stdout",
     "output_type": "stream",
     "text": [
      "Training data size: (1455563, 4)\n",
      "   tweet_id identification       emotion  \\\n",
      "1  0x1c7f10          train           joy   \n",
      "2  0x1c7f11          train  anticipation   \n",
      "5  0x1c7f14          train           joy   \n",
      "6  0x1c7f15          train           joy   \n",
      "7  0x1c7f16          train       disgust   \n",
      "\n",
      "                                                text  \n",
      "1   o m g Shut Up And Dance though #BlackMirror <LH>  \n",
      "2  On #twitch <LH> on the #Destinybeta #Destiny #...  \n",
      "5  A nice sunny wak this morning not many <LH> ar...  \n",
      "6  I'm one of those people who love candy corn......  \n",
      "7  @metmuseum What are these? They look like some...  \n"
     ]
    }
   ],
   "source": [
    "print(\"Training data size:\", train_df.shape)\n",
    "print(train_df.head())"
   ]
  },
  {
   "cell_type": "code",
   "execution_count": 14,
   "metadata": {},
   "outputs": [
    {
     "name": "stdout",
     "output_type": "stream",
     "text": [
      "Testing data size: (411972, 4)\n",
      "   tweet_id identification emotion  \\\n",
      "0  0x1c7f0f           test     NaN   \n",
      "3  0x1c7f12           test     NaN   \n",
      "4  0x1c7f13           test     NaN   \n",
      "8  0x1c7f17           test     NaN   \n",
      "9  0x1c7f18           test     NaN   \n",
      "\n",
      "                                                text  \n",
      "0  @JZED74 While inappropriate AF, he likely wasn...  \n",
      "3  I tried to figure out why you mean so much to ...  \n",
      "4  The only “big plan” you ever had in your life,...  \n",
      "8  Looking back on situations old & new, recent o...  \n",
      "9  @jasoninthehouse Why do you insist on talking ...  \n"
     ]
    }
   ],
   "source": [
    "print(\"Testing data size:\", test_df.shape)\n",
    "print(test_df.head())"
   ]
  },
  {
   "cell_type": "markdown",
   "metadata": {},
   "source": [
    "#### 1.2 Save data"
   ]
  },
  {
   "cell_type": "code",
   "execution_count": 15,
   "metadata": {},
   "outputs": [],
   "source": [
    "train_df.to_pickle(\"train_df.pkl\") \n",
    "test_df.to_pickle(\"test_df.pkl\")"
   ]
  },
  {
   "cell_type": "code",
   "execution_count": 16,
   "metadata": {},
   "outputs": [],
   "source": [
    "train_df = pd.read_pickle(\"train_df.pkl\")\n",
    "test_df = pd.read_pickle(\"test_df.pkl\")"
   ]
  },
  {
   "cell_type": "code",
   "execution_count": 17,
   "metadata": {},
   "outputs": [
    {
     "data": {
      "text/plain": [
       "emotion\n",
       "anger            39867\n",
       "anticipation    248935\n",
       "disgust         139101\n",
       "fear             63999\n",
       "joy             516017\n",
       "sadness         193437\n",
       "surprise         48729\n",
       "trust           205478\n",
       "Name: text, dtype: int64"
      ]
     },
     "execution_count": 17,
     "metadata": {},
     "output_type": "execute_result"
    }
   ],
   "source": [
    "train_df.groupby(['emotion']).count()['text']"
   ]
  },
  {
   "cell_type": "code",
   "execution_count": null,
   "metadata": {},
   "outputs": [
    {
     "data": {
      "image/png": "[encoded data removed]",
      "text/plain": [
       "<Figure size 800x600 with 1 Axes>"
      ]
     },
     "metadata": {},
     "output_type": "display_data"
    }
   ],
   "source": [
    "import numpy as np\n",
    "import matplotlib.pyplot as plt\n",
    "import seaborn as sns\n",
    "\n",
    "# Extract unique emotion labels and calculate the percentage distribution of each emotion\n",
    "labels = train_df['emotion'].unique()\n",
    "post_total = len(train_df)  # Total number of instances in the training dataset\n",
    "df1 = train_df.groupby(['emotion']).count()['text']  # Count instances for each emotion\n",
    "df1 = df1.apply(lambda x: round(x * 100 / post_total, 3))  # Calculate percentages\n",
    "\n",
    "# Set the visual style for seaborn plots\n",
    "sns.set(style=\"whitegrid\")\n",
    "\n",
    "# Create the figure and axis objects for the plot\n",
    "fig, ax = plt.subplots(figsize=(8, 6))\n",
    "\n",
    "# Create a bar plot using seaborn for a polished look\n",
    "sns.barplot(x=df1.index, y=df1.values, palette='muted', ax=ax)\n",
    "\n",
    "# Set labels and title for the plot\n",
    "plt.ylabel('% of instances')\n",
    "plt.xlabel('Emotion')\n",
    "plt.title('Emotion Distribution')\n",
    "\n",
    "# Rotate x-axis labels to prevent overlap\n",
    "plt.xticks(rotation=45, ha='right')\n",
    "\n",
    "# Annotate each bar with the corresponding percentage value\n",
    "for i, v in enumerate(df1.values):\n",
    "    ax.text(i, v + 1, f'{v}%', ha='center', va='bottom', fontsize=10)\n",
    "\n",
    "# Display the plot\n",
    "plt.show()\n",
    "\n"
   ]
  },
  {
   "cell_type": "markdown",
   "metadata": {},
   "source": [
    "From the figure, you can see the emotion distribution of the training data."
   ]
  },
  {
   "cell_type": "markdown",
   "metadata": {},
   "source": [
    "<hr>"
   ]
  },
  {
   "cell_type": "markdown",
   "metadata": {},
   "source": [
    "## **2. Data cleaning and data processing**"
   ]
  },
  {
   "cell_type": "markdown",
   "metadata": {},
   "source": [
    "In this step, we clean and convert the text into a format that BERT can handle. Specifically, we will use BertTokenizer to convert the text into the token ids required by BERT."
   ]
  },
  {
   "cell_type": "code",
   "execution_count": null,
   "metadata": {},
   "outputs": [],
   "source": [
    "import pandas as pd\n",
    "import numpy as np\n",
    "import re\n",
    "from sklearn.model_selection import train_test_split\n",
    "from sklearn.preprocessing import LabelEncoder\n",
    "from transformers import BertTokenizer\n",
    "\n",
    "# Load datasets\n",
    "train_df = pd.read_pickle(\"train_df.pkl\")  # Load the training dataset\n",
    "test_df = pd.read_pickle(\"test_df.pkl\")  # Load the testing dataset\n",
    "\n",
    "# Function for text cleaning\n",
    "def clean_text(text):\n",
    "    text = text.lower()  # Convert text to lowercase\n",
    "    text = re.sub(r'http\\S+', '', text)  # Remove URLs\n",
    "    text = re.sub(r'@\\S+', '', text)  # Remove mentions\n",
    "    text = re.sub(r'#[A-Za-z0-9_]+', '', text)  # Remove hashtags\n",
    "    text = re.sub(r'[^a-zA-Z\\s]', '', text)  # Remove non-alphabetic characters\n",
    "    return text\n",
    "\n",
    "# Apply the cleaning function to the text columns\n",
    "train_df['cleaned_text'] = train_df['text'].apply(clean_text)\n",
    "test_df['cleaned_text'] = test_df['text'].apply(clean_text)\n",
    "\n",
    "# Encode emotion labels\n",
    "label_encoder = LabelEncoder()  # Initialize the label encoder\n",
    "train_df['label'] = label_encoder.fit_transform(train_df['emotion'])  # Fit and transform the labels\n",
    "train_labels = train_df['label'].values  # Store the encoded labels in an array\n",
    "\n",
    "# Initialize the BERT tokenizer\n",
    "tokenizer = BertTokenizer.from_pretrained('bert-base-uncased')\n",
    "\n",
    "# Tokenize the cleaned text in the training and testing datasets\n",
    "train_encodings = tokenizer(\n",
    "    list(train_df['cleaned_text']),  # Convert the training text to a list\n",
    "    truncation=True,  # Truncate sequences longer than max_length\n",
    "    padding=True,  # Add padding to sequences to ensure equal length\n",
    "    max_length=128  # Set the maximum sequence length\n",
    ")\n",
    "test_encodings = tokenizer(\n",
    "    list(test_df['cleaned_text']),  # Convert the testing text to a list\n",
    "    truncation=True,\n",
    "    padding=True,\n",
    "    max_length=128\n",
    ")\n",
    "\n"
   ]
  },
  {
   "cell_type": "markdown",
   "metadata": {},
   "source": [
    "## **3. Build the Training Dataset class and DataLoader**"
   ]
  },
  {
   "cell_type": "markdown",
   "metadata": {},
   "source": [
    "BERT models require data to be processed in the format of the PyTorch Dataset class. This makes it easier to feed data to the model for training."
   ]
  },
  {
   "cell_type": "code",
   "execution_count": null,
   "metadata": {},
   "outputs": [],
   "source": [
    "import torch\n",
    "from torch.utils.data import Dataset\n",
    "from torch.utils.data import DataLoader\n",
    "from tqdm import tqdm\n",
    "\n",
    "# Custom Dataset class for training data\n",
    "class EmotionDataset_Train(Dataset):\n",
    "    def __init__(self, dataframe, tokenizer, max_len):\n",
    "        \"\"\"\n",
    "        Initializes the dataset.\n",
    "\n",
    "        Args:\n",
    "            dataframe (pd.DataFrame): Input DataFrame containing text and emotion labels.\n",
    "            tokenizer (BertTokenizer): Tokenizer to convert text into token IDs.\n",
    "            max_len (int): Maximum length for tokenized sequences.\n",
    "        \"\"\"\n",
    "        self.dataframe = dataframe\n",
    "        self.tokenizer = tokenizer\n",
    "        self.max_len = max_len\n",
    "\n",
    "    def __len__(self):\n",
    "        \"\"\"\n",
    "        Returns the number of samples in the dataset.\n",
    "        \n",
    "        Returns:\n",
    "            int: Total number of rows in the DataFrame.\n",
    "        \"\"\"\n",
    "        return len(self.dataframe)\n",
    "\n",
    "    def __getitem__(self, idx):\n",
    "        \"\"\"\n",
    "        Retrieves a single data item (text and label) by index.\n",
    "\n",
    "        Args:\n",
    "            idx (int): Index of the sample to retrieve.\n",
    "\n",
    "        Returns:\n",
    "            dict: A dictionary containing:\n",
    "                - 'input_ids': Token IDs as a PyTorch tensor.\n",
    "                - 'attention_mask': Attention mask as a PyTorch tensor.\n",
    "                - 'labels': Encoded label as a PyTorch tensor.\n",
    "        \"\"\"\n",
    "        # Retrieve text and label from the DataFrame\n",
    "        text = self.dataframe.iloc[idx]['text']\n",
    "        label = self.dataframe.iloc[idx]['emotion']\n",
    "\n",
    "        # Encode the label using the label encoder\n",
    "        label = label_encoder.transform([label])[0]  # Transform label into an integer\n",
    "\n",
    "        # Tokenize the text using the tokenizer\n",
    "        encoding = self.tokenizer.encode_plus(\n",
    "            text,\n",
    "            add_special_tokens=True,           # Include special tokens like [CLS] and [SEP]\n",
    "            max_length=self.max_len,           # Truncate or pad to the maximum length\n",
    "            padding='max_length',              # Pad to the specified max length\n",
    "            truncation=True,                   # Truncate sequences longer than max_len\n",
    "            return_tensors='pt'                # Return tensors in PyTorch format\n",
    "        )\n",
    "\n",
    "        return {\n",
    "            'input_ids': encoding['input_ids'].flatten(),          # Flatten the input IDs tensor\n",
    "            'attention_mask': encoding['attention_mask'].flatten(), # Flatten the attention mask tensor\n",
    "            'labels': torch.tensor(label, dtype=torch.long)        # Convert label to a PyTorch tensor\n",
    "        }\n",
    "\n",
    "# Create the training dataset\n",
    "train_dataset = EmotionDataset_Train(train_df, tokenizer, max_len=128)\n",
    "\n",
    "# Create the DataLoader for batch processing\n",
    "train_dataloader = DataLoader(\n",
    "    train_dataset,           # Input dataset\n",
    "    batch_size=64,           # Number of samples per batch\n",
    "    shuffle=True             # Shuffle the dataset at every epoch\n",
    ")\n",
    "\n"
   ]
  },
  {
   "cell_type": "markdown",
   "metadata": {},
   "source": [
    "## **4.BERT model training**"
   ]
  },
  {
   "cell_type": "markdown",
   "metadata": {},
   "source": [
    "#### 4.1 Training"
   ]
  },
  {
   "cell_type": "markdown",
   "metadata": {},
   "source": [
    "In this code, Hugging Face's BertForSequenceClassification is first loaded as the base model, which is specifically used for text classification tasks. In order to accelerate the calculation, GPU or CPU is dynamically selected as the computing device according to the current system environment, and the model is moved to the corresponding device.\n",
    "\n",
    "Next, the data undergoes appropriate word segmentation to generate a format that the model can understand. Among them, input_ids is the encoding result of the text, attention_mask is used to mark which words are valid inputs, and labels contains the corresponding labels of each piece of data. These fields are organized into DataLoader for batch training.\n",
    "\n",
    "During the training process, parameters such as the learning rate, the number of training rounds, and the size of each batch of data are set. Inside the training loop, the model receives data batch by batch, calculates a loss function to reflect the deviation between predictions and actual labels, and uses backpropagation to update model parameters. The prediction results of each batch are recorded and used to calculate the accuracy and average loss of the entire round.\n",
    "\n",
    "After each training round, the program will output the average loss and accuracy of the round, providing instant feedback on the model training effect, thereby helping to evaluate the model's performance and learning progress."
   ]
  },
  {
   "cell_type": "code",
   "execution_count": null,
   "metadata": {},
   "outputs": [
    {
     "name": "stderr",
     "output_type": "stream",
     "text": [
      "Some weights of BertForSequenceClassification were not initialized from the model checkpoint at bert-base-uncased and are newly initialized: ['classifier.bias', 'classifier.weight']\n",
      "You should probably TRAIN this model on a down-stream task to be able to use it for predictions and inference.\n",
      "c:\\Users\\User\\anaconda3\\Lib\\site-packages\\transformers\\optimization.py:591: FutureWarning: This implementation of AdamW is deprecated and will be removed in a future version. Use the PyTorch implementation torch.optim.AdamW instead, or set `no_deprecation_warning=True` to disable this warning\n",
      "  warnings.warn(\n",
      "Epoch 1/3:   0%|                                                          | 0/22744 [00:00<?, ?it/s]c:\\Users\\User\\anaconda3\\Lib\\site-packages\\transformers\\models\\bert\\modeling_bert.py:440: UserWarning: 1Torch was not compiled with flash attention. (Triggered internally at ..\\aten\\src\\ATen\\native\\transformers\\cuda\\sdp_utils.cpp:455.)\n",
      "  attn_output = torch.nn.functional.scaled_dot_product_attention(\n",
      "Epoch 1/3: 100%|████████████████████████████████████████████| 22744/22744 [1:16:23<00:00,  4.96it/s]\n"
     ]
    },
    {
     "name": "stdout",
     "output_type": "stream",
     "text": [
      "Epoch 1 Loss: 1.0264\n",
      "Epoch 1 Accuracy: 0.6289\n"
     ]
    },
    {
     "name": "stderr",
     "output_type": "stream",
     "text": [
      "Epoch 2/3: 100%|████████████████████████████████████████████| 22744/22744 [1:13:51<00:00,  5.13it/s]\n"
     ]
    },
    {
     "name": "stdout",
     "output_type": "stream",
     "text": [
      "Epoch 2 Loss: 0.8707\n",
      "Epoch 2 Accuracy: 0.6845\n"
     ]
    },
    {
     "name": "stderr",
     "output_type": "stream",
     "text": [
      "Epoch 3/3: 100%|████████████████████████████████████████████| 22744/22744 [1:11:45<00:00,  5.28it/s]\n"
     ]
    },
    {
     "name": "stdout",
     "output_type": "stream",
     "text": [
      "Epoch 3 Loss: 0.7808\n",
      "Epoch 3 Accuracy: 0.7169\n"
     ]
    }
   ],
   "source": [
    "import torch\n",
    "from torch.utils.data import DataLoader\n",
    "from transformers import BertTokenizer, BertForSequenceClassification, AdamW\n",
    "from sklearn.metrics import accuracy_score\n",
    "\n",
    "# Load the pre-trained BERT model for sequence classification\n",
    "# Specify the number of labels for classification (based on label encoder)\n",
    "model = BertForSequenceClassification.from_pretrained('bert-base-uncased', num_labels=len(label_encoder.classes_))\n",
    "\n",
    "# Set the device to GPU if available, otherwise use CPU\n",
    "device = torch.device(\"cuda\" if torch.cuda.is_available() else \"cpu\")\n",
    "model.to(device)  # Move the model to the selected device\n",
    "\n",
    "# Initialize the optimizer with the model's parameters and learning rate\n",
    "optimizer = AdamW(model.parameters(), lr=2e-5)\n",
    "\n",
    "# Training loop configuration\n",
    "num_epochs = 3  # Number of epochs for training\n",
    "\n",
    "# Training loop\n",
    "for epoch in range(num_epochs):\n",
    "    model.train()  # Enable training mode (e.g., applies dropout)\n",
    "    running_loss = 0.0  # Tracks the cumulative loss for the epoch\n",
    "    all_preds = []  # Stores all predictions for accuracy calculation\n",
    "    all_labels = []  # Stores all true labels for accuracy calculation\n",
    "\n",
    "    # Iterate through the DataLoader with a progress bar using tqdm\n",
    "    for batch in tqdm(train_dataloader, desc=f\"Epoch {epoch+1}/{num_epochs}\", ncols=100):\n",
    "        # Move input data and labels to the selected device (GPU/CPU)\n",
    "        input_ids = batch['input_ids'].to(device)\n",
    "        attention_mask = batch['attention_mask'].to(device)\n",
    "        labels = batch['labels'].to(device)\n",
    "\n",
    "        # Forward pass: compute predictions and loss\n",
    "        optimizer.zero_grad()  # Reset gradients before backward pass\n",
    "        outputs = model(input_ids=input_ids, attention_mask=attention_mask, labels=labels)\n",
    "        loss = outputs.loss  # Computed loss\n",
    "        logits = outputs.logits  # Predicted logits\n",
    "\n",
    "        # Calculate predictions (argmax to get predicted labels)\n",
    "        preds = torch.argmax(logits, dim=1)\n",
    "\n",
    "        # Accumulate predictions and labels for accuracy calculation\n",
    "        all_preds.extend(preds.cpu().numpy())  # Move predictions to CPU and convert to numpy\n",
    "        all_labels.extend(labels.cpu().numpy())  # Move labels to CPU and convert to numpy\n",
    "\n",
    "        # Backward pass: compute gradients and update model weights\n",
    "        loss.backward()  # Compute gradients\n",
    "        optimizer.step()  # Update model weights\n",
    "\n",
    "        # Accumulate the loss for the current batch\n",
    "        running_loss += loss.item()\n",
    "\n",
    "    # Calculate and print the average loss and accuracy for the current epoch\n",
    "    accuracy = accuracy_score(all_labels, all_preds)  # Compute accuracy using sklearn\n",
    "    print(f\"Epoch {epoch+1} Loss: {running_loss / len(train_dataloader):.4f}\")  # Average loss\n",
    "    print(f\"Epoch {epoch+1} Accuracy: {accuracy:.4f}\")  # Accuracy\n",
    "\n"
   ]
  },
  {
   "cell_type": "markdown",
   "metadata": {},
   "source": [
    "Loss decreases with the number of training epochs, indicating that the model is learning.\n",
    "\n",
    "Accuracy gradually improves, indicating that the model's performance on the training data is improving.\n",
    "\n",
    "After three epochs, the final accuracy is about 71.69%."
   ]
  },
  {
   "cell_type": "code",
   "execution_count": null,
   "metadata": {},
   "outputs": [
    {
     "name": "stdout",
     "output_type": "stream",
     "text": [
      "Model saved to: D:\\高睿駿\\DM\\bert_emotion_model\n"
     ]
    }
   ],
   "source": [
    "# Define the directory path where the trained model will be saved\n",
    "save_path = r\"D:\\高睿駿\\DM\\bert_emotion_model\"\n",
    "\n",
    "# Save the trained model's configuration and weights to the specified path\n",
    "# This includes the model's architecture and pre-trained parameters\n",
    "model.save_pretrained(save_path)\n",
    "\n",
    "# Print a confirmation message indicating where the model was saved\n",
    "print(f\"Model saved to: {save_path}\")\n",
    "\n"
   ]
  },
  {
   "cell_type": "markdown",
   "metadata": {},
   "source": [
    "## **5. Build the Testing Dataset class and DataLoader**"
   ]
  },
  {
   "cell_type": "markdown",
   "metadata": {},
   "source": [
    "This class EmotionDataset_Test is a custom dataset class in PyTorch, used to handle textual data for emotion classification. It can be used with labels (training/validation sets) or without labels (test sets) and generates the formatted input required by the model."
   ]
  },
  {
   "cell_type": "code",
   "execution_count": null,
   "metadata": {},
   "outputs": [],
   "source": [
    "# Define a custom Dataset class for the test data\n",
    "class EmotionDataset_Test(torch.utils.data.Dataset):\n",
    "    def __init__(self, dataframe, tokenizer, max_len):\n",
    "        \"\"\"\n",
    "        Initialize the EmotionDataset_Test class.\n",
    "\n",
    "        Args:\n",
    "        dataframe (pd.DataFrame): DataFrame containing the test data.\n",
    "        tokenizer (transformers.PreTrainedTokenizer): Tokenizer for encoding the text data.\n",
    "        max_len (int): Maximum token length for text sequences.\n",
    "        \"\"\"\n",
    "        self.texts = dataframe['text'].values  # Extract text column from the DataFrame\n",
    "        # Check if the DataFrame contains emotion labels; set to None if absent\n",
    "        self.labels = dataframe['emotion'].values if 'emotion' in dataframe.columns else None\n",
    "        self.tokenizer = tokenizer  # Tokenizer instance\n",
    "        self.max_len = max_len  # Maximum sequence length\n",
    "\n",
    "    def __len__(self):\n",
    "        \"\"\"\n",
    "        Return the total number of samples in the dataset.\n",
    "        \"\"\"\n",
    "        return len(self.texts)\n",
    "\n",
    "    def __getitem__(self, idx):\n",
    "        \"\"\"\n",
    "        Retrieve an encoded sample at the specified index.\n",
    "\n",
    "        Args:\n",
    "        idx (int): Index of the sample.\n",
    "\n",
    "        Returns:\n",
    "        dict: Dictionary containing input IDs, attention mask, and labels.\n",
    "        \"\"\"\n",
    "        text = self.texts[idx]  # Get the text at the specified index\n",
    "        # Tokenize and encode the text\n",
    "        encoding = self.tokenizer(\n",
    "            text,\n",
    "            max_length=self.max_len,  # Ensure the sequence does not exceed max_len\n",
    "            padding='max_length',  # Pad sequences to max_len\n",
    "            truncation=True,  # Truncate sequences longer than max_len\n",
    "            return_tensors='pt'  # Return PyTorch tensors\n",
    "        )\n",
    "        \n",
    "        # If labels exist, return the label; otherwise, return a placeholder value (-1)\n",
    "        label = torch.tensor(self.labels[idx]) if self.labels is not None else torch.tensor(-1)\n",
    "\n",
    "        return {\n",
    "            'input_ids': encoding['input_ids'].squeeze(0),  # Flatten the input IDs tensor\n",
    "            'attention_mask': encoding['attention_mask'].squeeze(0),  # Flatten the attention mask tensor\n",
    "            'labels': label  # Include the label\n",
    "        }\n",
    "\n",
    "# Create a test dataset instance\n",
    "test_dataset = EmotionDataset_Test(test_df, tokenizer, max_len=128)\n",
    "\n",
    "# Create a DataLoader for the test dataset\n",
    "# Batch size is set to 64, and shuffling is disabled for evaluation\n",
    "test_dataloader = DataLoader(test_dataset, batch_size=64, shuffle=False)\n"
   ]
  },
  {
   "cell_type": "markdown",
   "metadata": {},
   "source": [
    "## **6.BERT model testing**"
   ]
  },
  {
   "cell_type": "markdown",
   "metadata": {},
   "source": [
    "This code mainly implements the complete process of using the trained BERT model to classify emotion on test data. The program first loads the saved model weights and sets it to evaluation mode, while moving the model to the GPU to accelerate inference. Then, through a DataLoader of test data, the data is processed batch by batch to perform inference by disabling gradient calculation, output the predicted category score of each text, and convert the most likely category into the corresponding emotion label. Finally, the prediction results are added as a new field in the test data set, the field names are modified to a standard format, and the results are finally saved as a CSV file for subsequent analysis."
   ]
  },
  {
   "cell_type": "code",
   "execution_count": null,
   "metadata": {},
   "outputs": [
    {
     "name": "stderr",
     "output_type": "stream",
     "text": [
      "Testing: 100%|██████████████████████████████████████████████████| 6438/6438 [07:52<00:00, 13.62it/s]\n"
     ]
    },
    {
     "name": "stdout",
     "output_type": "stream",
     "text": [
      "         id  emotion\n",
      "0  0x1c7f0f  sadness\n",
      "3  0x1c7f12      joy\n",
      "4  0x1c7f13  sadness\n",
      "8  0x1c7f17    trust\n",
      "9  0x1c7f18  sadness\n"
     ]
    }
   ],
   "source": [
    "# Load the trained model from the specified path\n",
    "model = BertForSequenceClassification.from_pretrained(save_path)\n",
    "model.to(device)  # Move the model to GPU if available\n",
    "\n",
    "# Set the model to evaluation mode\n",
    "model.eval()\n",
    "all_preds = []  # List to store predictions\n",
    "\n",
    "# Disable gradient calculation to save memory and computation during evaluation\n",
    "with torch.no_grad():\n",
    "    # Iterate over the test DataLoader with a progress bar\n",
    "    for batch in tqdm(test_dataloader, desc=\"Testing\", ncols=100):\n",
    "        # Move input data to the same device as the model\n",
    "        input_ids = batch['input_ids'].to(device)\n",
    "        attention_mask = batch['attention_mask'].to(device)\n",
    "        \n",
    "        # Perform a forward pass to obtain predictions\n",
    "        outputs = model(input_ids=input_ids, attention_mask=attention_mask)\n",
    "        logits = outputs.logits  # Extract the logits (raw prediction scores)\n",
    "        \n",
    "        # Convert logits to predicted class indices\n",
    "        preds = torch.argmax(logits, dim=1)\n",
    "        all_preds.extend(preds.cpu().numpy())  # Append predictions to the list\n",
    "\n",
    "# Convert the predicted class indices back to emotion labels\n",
    "predicted_labels = label_encoder.inverse_transform(all_preds)\n",
    "\n",
    "# Add the predicted emotion labels to the test DataFrame\n",
    "test_df['emotion'] = predicted_labels\n",
    "\n",
    "# Rename the column 'tweet_id' to 'id' for output formatting\n",
    "test_df.rename(columns={'tweet_id': 'id'}, inplace=True)\n",
    "\n",
    "# Display the first few rows of the results\n",
    "print(test_df[['id', 'emotion']].head())\n",
    "\n",
    "# Save the predictions to a CSV file\n",
    "test_df[['id', 'emotion']].to_csv(\"D:/高睿駿/DM/test_predictions.csv\", index=False)\n",
    "\n"
   ]
  }
 ],
 "metadata": {
  "kernelspec": {
   "display_name": "base",
   "language": "python",
   "name": "python3"
  },
  "language_info": {
   "codemirror_mode": {
    "name": "ipython",
    "version": 3
   },
   "file_extension": ".py",
   "mimetype": "text/x-python",
   "name": "python",
   "nbconvert_exporter": "python",
   "pygments_lexer": "ipython3",
   "version": "3.11.7"
  },
  "varInspector": {
   "cols": {
    "lenName": 16,
    "lenType": 16,
    "lenVar": 40
   },
   "kernels_config": {
    "python": {
     "delete_cmd_postfix": "",
     "delete_cmd_prefix": "del ",
     "library": "var_list.py",
     "varRefreshCmd": "print(var_dic_list())"
    },
    "r": {
     "delete_cmd_postfix": ") ",
     "delete_cmd_prefix": "rm(",
     "library": "var_list.r",
     "varRefreshCmd": "cat(var_dic_list()) "
    }
   },
   "types_to_exclude": [
    "module",
    "function",
    "builtin_function_or_method",
    "instance",
    "_Feature"
   ],
   "window_display": false
  }
 },
 "nbformat": 4,
 "nbformat_minor": 2
}
